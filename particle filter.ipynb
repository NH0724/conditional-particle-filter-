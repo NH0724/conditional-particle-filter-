{
 "cells": [
  {
   "cell_type": "markdown",
   "metadata": {},
   "source": [
    "Runs the CPF-SAEM algorithm,\n",
    "\n",
    "  F. Lindsten, \"An efficient stochastic approximation EM algorithm\n",
    "   using conditional particle filters\", Proceedings of the 38th\n",
    "   International Conference on Acoustics, Speech, and Signal Processing\n",
    "   (ICASSP), Vancouver, Canada, May 2013."
   ]
  },
  {
   "cell_type": "markdown",
   "metadata": {},
   "source": [
    "The resample code is for resampling the weights. If we consider the Roulette Wheel, the larger weight (larger part in Roulette Wheel) will be preferred (more likely to be picked). NOTE: this algorithm is NOT computational efficiently!"
   ]
  },
  {
   "cell_type": "code",
   "execution_count": 1,
   "metadata": {},
   "outputs": [],
   "source": [
    "import numpy as np\n",
    "\n",
    "def resample(weights):\n",
    "    n = len(weights)\n",
    "    indices = []\n",
    "    qc = [sum(weights[:i+1]) for i in range(n)]\n",
    "    #u = np.random.normal(0, 1, n)\n",
    "    qc = qc/np.sum(weights)\n",
    "    #print(qc)\n",
    "    \n",
    "    return np.searchsorted(qc, np.random.random(n))\n"
   ]
  },
  {
   "cell_type": "markdown",
   "metadata": {},
   "source": [
    "Use the following two cells to define the functions (f,y). In this example, the functions are taken as the common examples in the 'space-state' model, where f represents how far a robot moves, and y denotes the oritation (or messure). Note here, the functions do NOT contain random variables. These random variables will be added in the generate_data function."
   ]
  },
  {
   "cell_type": "code",
   "execution_count": 5,
   "metadata": {},
   "outputs": [],
   "source": [
    "def f(xt,t):\n",
    "    xt_new = 0.5*xt + 25*xt/(1+xt**2) + 8*np.cos(1.2*t)\n",
    "    return xt_new \n",
    "def h(xt):\n",
    "    yt = xt**2/20\n",
    "    return yt"
   ]
  },
  {
   "cell_type": "markdown",
   "metadata": {},
   "source": [
    "The followings are the main parts of the CPF_SAEM algorithm."
   ]
  },
  {
   "cell_type": "code",
   "execution_count": 6,
   "metadata": {},
   "outputs": [],
   "source": [
    "def cpf_as(y, q, r, N, X):\n",
    "    T = len(y)\n",
    "    x = np.zeros((N,T))\n",
    "    a = np.zeros((N,T))\n",
    "    w = np.zeros((N,T))\n",
    "    x[:,0] = 0\n",
    "    x[N-1,0] = X[0]\n",
    "    for t in range(0,T):\n",
    "        if t!=0:\n",
    "            ind = resample(w[:,t-1])\n",
    "            ind = ind[np.random.permutation(N)]\n",
    "            xpred = f(x[:,t-1],t-1)\n",
    "            x[:,t] = xpred[ind] + np.sqrt(q)*np.random.normal(0, 1, N)\n",
    "            # if the value of X is provided, then do the following, otherwise, an unconditional PF should run.\n",
    "            # if X provide:\n",
    "            x[N-1,t] = X[t]\n",
    "            # the following is Ancestor sampling (ancestor sampling may have another name, check!)\n",
    "            m = np.exp(-1/2/q*(X[t]-xpred)**2)\n",
    "            w_as = w[:,t-1]*m\n",
    "            w_as = w_as/np.sum(w_as)\n",
    "            ind[N-1] = np.where(np.random.uniform(0,1,1)<np.cumsum(w_as))[0][0] \n",
    "            a[:,t] = ind        \n",
    "        # for the important weights\n",
    "        ypred = h(x[:,t])\n",
    "        logweights = -1/2/r*(y[t]-ypred)**2\n",
    "        const = np.max(logweights)\n",
    "        weights = np.exp(logweights - const) # Subtract the maximum value for numerical stability\n",
    "        w[:,t] = weights/sum(weights)\n",
    "        \n",
    "    ind = [int(x) for x in a[:,T-1]]\n",
    "    \n",
    "    for t in range(T-2,0,-1):\n",
    "        x[:,t] = x[ind,t]\n",
    "        ind = [int(x) for x in a[ind,t]]\n",
    "    return x, w"
   ]
  },
  {
   "cell_type": "code",
   "execution_count": 7,
   "metadata": {},
   "outputs": [],
   "source": [
    "def update_S(S,X,w,gamma,y):\n",
    "    (N,T) = X.shape\n",
    "    fX = f(X[:,0:T-1],np.tile(np.array([x for x in range(0,T-1)]), (N,1)))\n",
    "    S1 = np.mean((X[:,1:T]-fX)**2,1)\n",
    "    S1 = np.matmul(np.transpose(S1),w)\n",
    "    hX = h(X)\n",
    "    S2 = np.mean((np.tile(np.transpose(y), (N,1))-hX)**2,1)\n",
    "    S2 = np.matmul(np.transpose(S2),w)\n",
    "    S = (1-gamma)*S + gamma*np.vstack((S1,S2))\n",
    "    return S"
   ]
  },
  {
   "cell_type": "code",
   "execution_count": 8,
   "metadata": {},
   "outputs": [],
   "source": [
    "def cpf_saem(numIter, y, N, gamma, qinit, rinit, q0, r0):\n",
    "    T = len(y)\n",
    "    q = np.zeros((numIter,1))\n",
    "    r = np.zeros((numIter,1))\n",
    "    X = np.zeros((numIter,T))\n",
    "    q[0] = qinit\n",
    "    r[0] = rinit\n",
    "    particles, w = cpf_as(y, q[0], r[0], N, X[0,:])\n",
    "    J = np.where(np.random.uniform(0,1,1)<np.cumsum(w[:,T-1]))[0][0]\n",
    "    X[1,:] = particles[J,:]\n",
    "    S = np.array([0,0]).reshape(2,1)\n",
    "    for k in range(1,numIter-1):\n",
    "        S = update_S(S, particles, w[:,T-1], gamma[k], y)\n",
    "        q[k] =S[0][0]\n",
    "        r[k] = S[1][0]\n",
    "        particles, w = cpf_as(y, q[k], r[k], N, X[k-1,:])\n",
    "        J = np.where(np.random.uniform(0,1,1)<np.cumsum(w[:,T-1]))[0][0]\n",
    "        X[k,:] = particles[J,:]\n",
    "    return X,q,r"
   ]
  },
  {
   "cell_type": "markdown",
   "metadata": {},
   "source": []
  },
  {
   "cell_type": "code",
   "execution_count": 9,
   "metadata": {},
   "outputs": [],
   "source": [
    "def generate_data(T,q,r):\n",
    "    x = np.zeros((T, 1))\n",
    "    y = np.zeros((T, 1))\n",
    "    x[0] = 0 # Initial condition\n",
    "    for t in range(0,T-1):\n",
    "        x[t+1] = f(x[t],t) + np.sqrt(q)*np.random.normal(0, 1, 1);\n",
    "        y[t] = h(x[t]) + np.sqrt(r)*np.random.normal(0, 1, 1);\n",
    "    return x,y"
   ]
  },
  {
   "cell_type": "code",
   "execution_count": 10,
   "metadata": {},
   "outputs": [],
   "source": [
    "N1 = 15            \n",
    "T = 100\n",
    "numIter = 200 # Number of iterations in EM algorithms\n",
    "kappa = 1"
   ]
  },
  {
   "cell_type": "code",
   "execution_count": 11,
   "metadata": {},
   "outputs": [],
   "source": [
    "%matplotlib inline "
   ]
  },
  {
   "cell_type": "code",
   "execution_count": 12,
   "metadata": {},
   "outputs": [],
   "source": [
    "q0 = 0.1 # True process noise variance\n",
    "r0 = 1 # True measurement noise variance\n",
    "x0,y0 = generate_data(T,q0,r0)"
   ]
  },
  {
   "cell_type": "code",
   "execution_count": 13,
   "metadata": {},
   "outputs": [
    {
     "name": "stdout",
     "output_type": "stream",
     "text": [
      "(100, 1)\n",
      "(100, 1)\n"
     ]
    }
   ],
   "source": [
    "print(x0.shape)\n",
    "print(y0.shape)"
   ]
  },
  {
   "cell_type": "code",
   "execution_count": 14,
   "metadata": {},
   "outputs": [
    {
     "data": {
      "image/png": "[encoded data removed]",
      "text/plain": [
       "<Figure size 432x288 with 1 Axes>"
      ]
     },
     "metadata": {
      "needs_background": "light"
     },
     "output_type": "display_data"
    }
   ],
   "source": [
    "import matplotlib.pyplot as plt\n",
    "plt.plot(np.arange(100),x0)\n",
    "plt.show()"
   ]
  },
  {
   "cell_type": "code",
   "execution_count": 15,
   "metadata": {},
   "outputs": [],
   "source": [
    "qinit = 1\n",
    "rinit = 0.1"
   ]
  },
  {
   "cell_type": "code",
   "execution_count": 16,
   "metadata": {},
   "outputs": [],
   "source": [
    "gamma = np.zeros((1,numIter))[0]\n",
    "gamma[0:1] = 1\n",
    "gamma[1:99] = 0.98\n",
    "gamma[99:] = 0.98*((np.arange(0,numIter-99)+kappa)/kappa)**(-0.7)"
   ]
  },
  {
   "cell_type": "code",
   "execution_count": 17,
   "metadata": {},
   "outputs": [],
   "source": [
    "X1, q1, r1 = cpf_saem(numIter, y0, N1, gamma, qinit, rinit, q0, r0)"
   ]
  },
  {
   "cell_type": "code",
   "execution_count": 18,
   "metadata": {},
   "outputs": [
    {
     "name": "stdout",
     "output_type": "stream",
     "text": [
      "200\n"
     ]
    }
   ],
   "source": [
    "print(len(q1))"
   ]
  },
  {
   "cell_type": "code",
   "execution_count": 19,
   "metadata": {},
   "outputs": [
    {
     "data": {
      "image/png": "[encoded data removed]",
      "text/plain": [
       "<Figure size 432x288 with 1 Axes>"
      ]
     },
     "metadata": {
      "needs_background": "light"
     },
     "output_type": "display_data"
    }
   ],
   "source": [
    "plt.plot(np.arange(len(q1)-1),q1[:-1])\n",
    "plt.show()"
   ]
  },
  {
   "cell_type": "code",
   "execution_count": 20,
   "metadata": {},
   "outputs": [
    {
     "name": "stdout",
     "output_type": "stream",
     "text": [
      "[[0.11662978]\n",
      " [0.11681299]\n",
      " [0.11731685]\n",
      " [0.11790288]]\n"
     ]
    }
   ],
   "source": [
    "print(q1[-5:-1])"
   ]
  },
  {
   "cell_type": "code",
   "execution_count": 21,
   "metadata": {},
   "outputs": [
    {
     "data": {
      "image/png": "[encoded data removed]",
      "text/plain": [
       "<Figure size 432x288 with 1 Axes>"
      ]
     },
     "metadata": {
      "needs_background": "light"
     },
     "output_type": "display_data"
    }
   ],
   "source": [
    "plt.plot(np.arange(len(r1)-1),r1[:-1])\n",
    "plt.show()"
   ]
  },
  {
   "cell_type": "code",
   "execution_count": 22,
   "metadata": {},
   "outputs": [
    {
     "name": "stdout",
     "output_type": "stream",
     "text": [
      "[[0.86557749]\n",
      " [0.86439716]\n",
      " [0.86218468]\n",
      " [0.8632751 ]]\n"
     ]
    }
   ],
   "source": [
    "print(r1[-5:-1])"
   ]
  },
  {
   "cell_type": "code",
   "execution_count": 23,
   "metadata": {},
   "outputs": [
    {
     "name": "stdout",
     "output_type": "stream",
     "text": [
      "[[0.09431043]]\n",
      "[[0.09038187]]\n",
      "[[0.10083137]]\n",
      "[[0.09475556]]\n",
      "[[0.11696053]]\n",
      "[[0.10449606]]\n",
      "[[0.10519356]]\n",
      "[[0.12937312]]\n",
      "[[0.12134095]]\n",
      "[[0.09968126]]\n",
      "[[0.1093625]]\n",
      "[[0.11982777]]\n",
      "[[0.08462502]]\n",
      "[[0.08033977]]\n",
      "[[0.12684055]]\n",
      "[[0.11740446]]\n",
      "[[0.10160556]]\n",
      "[[0.09640011]]\n",
      "[[0.10342799]]\n",
      "[[0.11502798]]\n"
     ]
    },
    {
     "data": {
      "image/png": "[encoded data removed]",
      "text/plain": [
       "<Figure size 432x288 with 1 Axes>"
      ]
     },
     "metadata": {
      "needs_background": "light"
     },
     "output_type": "display_data"
    }
   ],
   "source": [
    "for _ in range(20):\n",
    "    X1, q1, r1 = cpf_saem(numIter, y0, N1, gamma, qinit, rinit, q0, r0)\n",
    "    print(q1[-2:-1])\n",
    "    plt.plot(np.arange(len(q1)-1),q1[:-1])\n",
    "plt.show()"
   ]
  },
  {
   "cell_type": "code",
   "execution_count": 24,
   "metadata": {},
   "outputs": [
    {
     "name": "stdout",
     "output_type": "stream",
     "text": [
      "[[0.89001188]]\n",
      "[[0.90230926]]\n",
      "[[0.87659031]]\n",
      "[[0.88237546]]\n",
      "[[0.86478528]]\n",
      "[[0.91548479]]\n",
      "[[0.88205485]]\n",
      "[[0.90999077]]\n",
      "[[0.88435592]]\n",
      "[[0.86571355]]\n",
      "[[0.85369995]]\n",
      "[[0.86321011]]\n",
      "[[0.87206416]]\n",
      "[[0.85807413]]\n",
      "[[0.85456554]]\n",
      "[[0.85608251]]\n",
      "[[0.91454758]]\n",
      "[[0.89627115]]\n",
      "[[0.87382841]]\n",
      "[[0.9076523]]\n"
     ]
    },
    {
     "data": {
      "image/png": "[encoded data removed]",
      "text/plain": [
       "<Figure size 432x288 with 1 Axes>"
      ]
     },
     "metadata": {
      "needs_background": "light"
     },
     "output_type": "display_data"
    }
   ],
   "source": [
    "for _ in range(20):\n",
    "    X1, q1, r1 = cpf_saem(numIter, y0, N1, gamma, qinit, rinit, q0, r0)\n",
    "    print(r1[-2:-1])\n",
    "    plt.plot(np.arange(len(r1)-1),r1[:-1])\n",
    "plt.show()"
   ]
  }
 ],
 "metadata": {
  "kernelspec": {
   "display_name": "Python 3",
   "language": "python",
   "name": "python3"
  },
  "language_info": {
   "codemirror_mode": {
    "name": "ipython",
    "version": 3
   },
   "file_extension": ".py",
   "mimetype": "text/x-python",
   "name": "python",
   "nbconvert_exporter": "python",
   "pygments_lexer": "ipython3",
   "version": "3.7.3"
  }
 },
 "nbformat": 4,
 "nbformat_minor": 2
}
