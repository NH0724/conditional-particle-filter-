{
  "nbformat": 4,
  "nbformat_minor": 0,
  "metadata": {
    "kernelspec": {
      "display_name": "Python 3",
      "language": "python",
      "name": "python3"
    },
    "language_info": {
      "codemirror_mode": {
        "name": "ipython",
        "version": 3
      },
      "file_extension": ".py",
      "mimetype": "text/x-python",
      "name": "python",
      "nbconvert_exporter": "python",
      "pygments_lexer": "ipython3",
      "version": "3.6.9"
    },
    "colab": {
      "name": "TF-IDF.ipynb",
      "provenance": [],
      "include_colab_link": true
    }
  },
  "cells": [
    {
      "cell_type": "markdown",
      "metadata": {
        "id": "view-in-github",
        "colab_type": "text"
      },
      "source": [
        "<a href=\"https://colab.research.google.com/github/NH0724/conditional-particle-filter-/blob/main/TF_IDF.ipynb\" target=\"_parent\"><img src=\"https://colab.research.google.com/assets/colab-badge.svg\" alt=\"Open In Colab\"/></a>"
      ]
    },
    {
      "cell_type": "code",
      "metadata": {
        "id": "wiintAeM2n9R"
      },
      "source": [
        "from sklearn.feature_extraction.text import TfidfVectorizer"
      ],
      "execution_count": null,
      "outputs": []
    },
    {
      "cell_type": "code",
      "metadata": {
        "id": "C0S3Xed32n9X"
      },
      "source": [
        "corpus = [\n",
        "...     'This is the first document.',\n",
        "...     'This document is the second document.',\n",
        "...     'And this is the third one.',\n",
        "...     'Is this the first document?',\n",
        "... ]"
      ],
      "execution_count": null,
      "outputs": []
    },
    {
      "cell_type": "code",
      "metadata": {
        "id": "nqt05rh32n9b"
      },
      "source": [
        "vectorizer = TfidfVectorizer(smooth_idf = True)"
      ],
      "execution_count": null,
      "outputs": []
    },
    {
      "cell_type": "markdown",
      "metadata": {
        "id": "nn71LOPE2n9f"
      },
      "source": [
        "%Latex fit_transform is equivalent to fit first, then transform..."
      ]
    },
    {
      "cell_type": "code",
      "metadata": {
        "id": "tlxZd8rV2n9g",
        "colab": {
          "base_uri": "https://localhost:8080/",
          "height": 51
        },
        "outputId": "91be802c-3f5f-4104-876e-a7ad7a8d1838"
      },
      "source": [
        "X_inital = vectorizer.fit(corpus)\n",
        "X = X_inital.transform(corpus)\n",
        "print(vectorizer.idf_)"
      ],
      "execution_count": null,
      "outputs": [
        {
          "output_type": "stream",
          "text": [
            "[1.91629073 1.22314355 1.51082562 1.         1.91629073 1.91629073\n",
            " 1.         1.91629073 1.        ]\n"
          ],
          "name": "stdout"
        }
      ]
    },
    {
      "cell_type": "code",
      "metadata": {
        "id": "p5peJCqW2n9l",
        "colab": {
          "base_uri": "https://localhost:8080/",
          "height": 374
        },
        "outputId": "65bd55d7-7d17-4fd6-d824-e2bd82f07a12"
      },
      "source": [
        "X2 = vectorizer.fit_transform(corpus)\n",
        "print(X2)"
      ],
      "execution_count": null,
      "outputs": [
        {
          "output_type": "stream",
          "text": [
            "  (0, 1)\t0.46979138557992045\n",
            "  (0, 2)\t0.5802858236844359\n",
            "  (0, 6)\t0.38408524091481483\n",
            "  (0, 3)\t0.38408524091481483\n",
            "  (0, 8)\t0.38408524091481483\n",
            "  (1, 5)\t0.5386476208856763\n",
            "  (1, 1)\t0.6876235979836938\n",
            "  (1, 6)\t0.281088674033753\n",
            "  (1, 3)\t0.281088674033753\n",
            "  (1, 8)\t0.281088674033753\n",
            "  (2, 4)\t0.511848512707169\n",
            "  (2, 7)\t0.511848512707169\n",
            "  (2, 0)\t0.511848512707169\n",
            "  (2, 6)\t0.267103787642168\n",
            "  (2, 3)\t0.267103787642168\n",
            "  (2, 8)\t0.267103787642168\n",
            "  (3, 1)\t0.46979138557992045\n",
            "  (3, 2)\t0.5802858236844359\n",
            "  (3, 6)\t0.38408524091481483\n",
            "  (3, 3)\t0.38408524091481483\n",
            "  (3, 8)\t0.38408524091481483\n"
          ],
          "name": "stdout"
        }
      ]
    },
    {
      "cell_type": "code",
      "metadata": {
        "id": "5lyw-Xbd2n9o",
        "colab": {
          "base_uri": "https://localhost:8080/",
          "height": 51
        },
        "outputId": "7bcdd724-df0e-41c8-f959-b237cd3bef1e"
      },
      "source": [
        "print(vectorizer.get_feature_names())"
      ],
      "execution_count": null,
      "outputs": [
        {
          "output_type": "stream",
          "text": [
            "['and', 'document', 'first', 'is', 'one', 'second', 'the', 'third', 'this']\n",
            "['and', 'document', 'first', 'is', 'one', 'second', 'the', 'third', 'this']\n"
          ],
          "name": "stdout"
        }
      ]
    },
    {
      "cell_type": "code",
      "metadata": {
        "id": "6sHgQGwd2n9v",
        "colab": {
          "base_uri": "https://localhost:8080/",
          "height": 408
        },
        "outputId": "b0a42733-5046-47dc-e48c-be38387e99e8"
      },
      "source": [
        "print(X[0,6])\n",
        "print(X)\n",
        "print(vectorizer.vocabulary_)\n"
      ],
      "execution_count": null,
      "outputs": [
        {
          "output_type": "stream",
          "text": [
            "0.38408524091481483\n",
            "  (0, 8)\t0.38408524091481483\n",
            "  (0, 6)\t0.38408524091481483\n",
            "  (0, 3)\t0.38408524091481483\n",
            "  (0, 2)\t0.5802858236844359\n",
            "  (0, 1)\t0.46979138557992045\n",
            "  (1, 8)\t0.281088674033753\n",
            "  (1, 6)\t0.281088674033753\n",
            "  (1, 5)\t0.5386476208856763\n",
            "  (1, 3)\t0.281088674033753\n",
            "  (1, 1)\t0.6876235979836938\n",
            "  (2, 8)\t0.267103787642168\n",
            "  (2, 7)\t0.511848512707169\n",
            "  (2, 6)\t0.267103787642168\n",
            "  (2, 4)\t0.511848512707169\n",
            "  (2, 3)\t0.267103787642168\n",
            "  (2, 0)\t0.511848512707169\n",
            "  (3, 8)\t0.38408524091481483\n",
            "  (3, 6)\t0.38408524091481483\n",
            "  (3, 3)\t0.38408524091481483\n",
            "  (3, 2)\t0.5802858236844359\n",
            "  (3, 1)\t0.46979138557992045\n",
            "{'this': 8, 'is': 3, 'the': 6, 'first': 2, 'document': 1, 'second': 5, 'and': 0, 'third': 7, 'one': 4}\n"
          ],
          "name": "stdout"
        }
      ]
    },
    {
      "cell_type": "code",
      "metadata": {
        "id": "sEloZK__2n9y",
        "colab": {
          "base_uri": "https://localhost:8080/",
          "height": 54
        },
        "outputId": "67536d40-74df-4974-9714-b0984e940d90"
      },
      "source": [
        "print(vectorizer.inverse_transform(X))"
      ],
      "execution_count": null,
      "outputs": [
        {
          "output_type": "stream",
          "text": [
            "[array(['this', 'the', 'is', 'first', 'document'], dtype='<U8'), array(['this', 'the', 'second', 'is', 'document'], dtype='<U8'), array(['this', 'third', 'the', 'one', 'is', 'and'], dtype='<U8'), array(['this', 'the', 'is', 'first', 'document'], dtype='<U8')]\n"
          ],
          "name": "stdout"
        }
      ]
    },
    {
      "cell_type": "code",
      "metadata": {
        "id": "TApUuwLi2n92"
      },
      "source": [
        "import numpy as np"
      ],
      "execution_count": null,
      "outputs": []
    },
    {
      "cell_type": "code",
      "metadata": {
        "id": "O2uZvOCH2n96",
        "colab": {
          "base_uri": "https://localhost:8080/",
          "height": 51
        },
        "outputId": "5228cda0-6005-406d-961b-82b75b8b243e"
      },
      "source": [
        "volcab = []\n",
        "for i in range(len(corpus)):\n",
        "    for each in list(corpus[i].split(' ')):\n",
        "        each = each.lower()\n",
        "        if '.' in each:\n",
        "            each = each.replace('.','')\n",
        "        if '?' in each:\n",
        "            each = each.replace('?','')\n",
        "        volcab.append(each)\n",
        "volcab =list(set(volcab))\n",
        "print(len(volcab))\n",
        "print(volcab)"
      ],
      "execution_count": null,
      "outputs": [
        {
          "output_type": "stream",
          "text": [
            "9\n",
            "['second', 'third', 'is', 'one', 'and', 'the', 'first', 'this', 'document']\n"
          ],
          "name": "stdout"
        }
      ]
    },
    {
      "cell_type": "markdown",
      "metadata": {
        "id": "4cCfwDor2n9_"
      },
      "source": [
        "%%latex \n",
        "\n",
        "TF-IDF formula is $$w_{i,j} = tf_{i,j} \\times \\log{\\frac{N}{df_i}}$$, where $w_{i,j}$ is the TF-IDF number, $tf_{i,j}$ is the number of occurrences of word $i$ in document $j$; $df_i$ is the number of hte documents containing word $i$, and $N$ is the total number of documents. \n",
        "\n",
        "each word's TF-IDF relevance is a normalized data format, which adds up to $1$.\n",
        "\n",
        "To be consistent with sklearn, instead of using the formula in textbook shown above, the following using the formula in sklearn for idf:\n",
        "$$\n",
        "idf=\\log{\\frac{N+1}{f_i+1}+1}\n",
        "$$"
      ]
    },
    {
      "cell_type": "code",
      "metadata": {
        "id": "wKXqEjvZ2n-A",
        "colab": {
          "base_uri": "https://localhost:8080/",
          "height": 34
        },
        "outputId": "6771aab3-3f78-4bde-c186-e98239de7a43"
      },
      "source": [
        "print(dict(zip(vectorizer.get_feature_names(),vectorizer.idf_)))\n"
      ],
      "execution_count": null,
      "outputs": [
        {
          "output_type": "stream",
          "text": [
            "{'and': 1.916290731874155, 'document': 1.2231435513142097, 'first': 1.5108256237659907, 'is': 1.0, 'one': 1.916290731874155, 'second': 1.916290731874155, 'the': 1.0, 'third': 1.916290731874155, 'this': 1.0}\n"
          ],
          "name": "stdout"
        }
      ]
    },
    {
      "cell_type": "code",
      "metadata": {
        "id": "OdcBe9nC2n-J",
        "colab": {
          "base_uri": "https://localhost:8080/",
          "height": 51
        },
        "outputId": "a4788e57-4371-498a-c4b6-c9ed3505c8b9"
      },
      "source": [
        "idf = []\n",
        "corpus_low = [x.lower() for x in corpus]\n",
        "print(corpus_low)\n",
        "for i in range(len(corpus_low)):\n",
        "    if '.' in corpus_low[i]:\n",
        "        corpus_low[i] = corpus_low[i].replace('.','')\n",
        "    if '?' in corpus_low[i]:\n",
        "        corpus_low[i] = corpus_low[i].replace('?','')\n",
        "#print(corpus_low)\n",
        "for each in name:\n",
        "    df = 0\n",
        "    for i in range(len(corpus)):\n",
        "        if each in corpus_low[i]:\n",
        "            df = df + 1\n",
        "        else:\n",
        "            pass\n",
        "    #print(df)\n",
        "    idf.append(np.log((len(corpus)+1)/(df+1))+1)\n",
        "    #print(each + f' idf is {df}')\n",
        "idf_dict = dict(zip(name,idf))\n",
        "print(idf_dict)"
      ],
      "execution_count": null,
      "outputs": [
        {
          "output_type": "stream",
          "text": [
            "['this is the first document.', 'this document is the second document.', 'and this is the third one.', 'is this the first document?']\n",
            "{'and': 1.916290731874155, 'document': 1.2231435513142097, 'first': 1.5108256237659907, 'is': 1.0, 'one': 1.916290731874155, 'second': 1.916290731874155, 'the': 1.0, 'third': 1.916290731874155, 'this': 1.0}\n"
          ],
          "name": "stdout"
        }
      ]
    },
    {
      "cell_type": "code",
      "metadata": {
        "id": "YDiveOHT2n-O",
        "colab": {
          "base_uri": "https://localhost:8080/",
          "height": 34
        },
        "outputId": "078346e8-2b8f-47b7-9aa1-dcb82e45a363"
      },
      "source": [
        "print(idf_dict['and'])"
      ],
      "execution_count": null,
      "outputs": [
        {
          "output_type": "stream",
          "text": [
            "1.916290731874155\n"
          ],
          "name": "stdout"
        }
      ]
    },
    {
      "cell_type": "code",
      "metadata": {
        "id": "MuCAopng2n-T",
        "colab": {
          "base_uri": "https://localhost:8080/",
          "height": 323
        },
        "outputId": "b7e0f30d-5815-4edc-851c-b167dd85f39e"
      },
      "source": [
        "tf_dict ={}\n",
        "for each in name:\n",
        "    tf = []\n",
        "    for i in range(len(corpus)):\n",
        "        times = corpus_low[i].split(' ').count(each)\n",
        "        tf.append(times)\n",
        "    print(each)\n",
        "    print(tf)\n",
        "    tf_dict[each] = tf"
      ],
      "execution_count": null,
      "outputs": [
        {
          "output_type": "stream",
          "text": [
            "and\n",
            "[0, 0, 1, 0]\n",
            "document\n",
            "[1, 2, 0, 1]\n",
            "first\n",
            "[1, 0, 0, 1]\n",
            "is\n",
            "[1, 1, 1, 1]\n",
            "one\n",
            "[0, 0, 1, 0]\n",
            "second\n",
            "[0, 1, 0, 0]\n",
            "the\n",
            "[1, 1, 1, 1]\n",
            "third\n",
            "[0, 0, 1, 0]\n",
            "this\n",
            "[1, 1, 1, 1]\n"
          ],
          "name": "stdout"
        }
      ]
    },
    {
      "cell_type": "code",
      "metadata": {
        "id": "gq7gpk392n-W",
        "colab": {
          "base_uri": "https://localhost:8080/",
          "height": 51
        },
        "outputId": "e13ad7db-7a02-4485-c0ff-572a83ddb6cc"
      },
      "source": [
        "print(tf_dict['and'])\n",
        "print(vectorizer.vocabulary_)"
      ],
      "execution_count": null,
      "outputs": [
        {
          "output_type": "stream",
          "text": [
            "[0, 0, 1, 0]\n",
            "{'this': 8, 'is': 3, 'the': 6, 'first': 2, 'document': 1, 'second': 5, 'and': 0, 'third': 7, 'one': 4}\n"
          ],
          "name": "stdout"
        }
      ]
    },
    {
      "cell_type": "markdown",
      "metadata": {
        "id": "UPHAOkNd2n-d"
      },
      "source": [
        "from the following result, it can be seen that the manual solution is the same with the sklearn result. "
      ]
    },
    {
      "cell_type": "code",
      "metadata": {
        "id": "TV8L8jsT2n-f",
        "colab": {
          "base_uri": "https://localhost:8080/",
          "height": 374
        },
        "outputId": "e3d0fe08-6d70-449e-d6c7-3258f2faad09"
      },
      "source": [
        "# normalize each word vector\n",
        "for i in range(len(corpus)):\n",
        "    sum = 0\n",
        "    for each in vectorizer.vocabulary_.keys():\n",
        "        if each in corpus_low[i]:\n",
        "            #print(each)\n",
        "            sum = sum + (tf_dict[each][i]*idf_dict[each])**2\n",
        "    for each in vectorizer.vocabulary_.keys():\n",
        "        if each in corpus_low[i]:\n",
        "            print(each +' ' +str((i,vectorizer.vocabulary_[each])) + ' ' +str(tf_dict[each][i]*idf_dict[each]/np.sqrt(sum)))"
      ],
      "execution_count": null,
      "outputs": [
        {
          "output_type": "stream",
          "text": [
            "this (0, 8) 0.38408524091481483\n",
            "is (0, 3) 0.38408524091481483\n",
            "the (0, 6) 0.38408524091481483\n",
            "first (0, 2) 0.5802858236844359\n",
            "document (0, 1) 0.46979138557992045\n",
            "this (1, 8) 0.281088674033753\n",
            "is (1, 3) 0.281088674033753\n",
            "the (1, 6) 0.281088674033753\n",
            "document (1, 1) 0.6876235979836938\n",
            "second (1, 5) 0.5386476208856763\n",
            "this (2, 8) 0.267103787642168\n",
            "is (2, 3) 0.267103787642168\n",
            "the (2, 6) 0.267103787642168\n",
            "and (2, 0) 0.511848512707169\n",
            "third (2, 7) 0.511848512707169\n",
            "one (2, 4) 0.511848512707169\n",
            "this (3, 8) 0.38408524091481483\n",
            "is (3, 3) 0.38408524091481483\n",
            "the (3, 6) 0.38408524091481483\n",
            "first (3, 2) 0.5802858236844359\n",
            "document (3, 1) 0.46979138557992045\n"
          ],
          "name": "stdout"
        }
      ]
    },
    {
      "cell_type": "code",
      "metadata": {
        "id": "SQ3OJTk-2n-q"
      },
      "source": [
        ""
      ],
      "execution_count": null,
      "outputs": []
    }
  ]
}